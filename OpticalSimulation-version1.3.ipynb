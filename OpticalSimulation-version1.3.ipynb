{
 "cells": [
  {
   "cell_type": "markdown",
   "metadata": {},
   "source": [
    "# Optical Simulation"
   ]
  },
  {
   "cell_type": "code",
   "execution_count": 1,
   "metadata": {
    "collapsed": true
   },
   "outputs": [],
   "source": [
    "%matplotlib inline"
   ]
  },
  {
   "cell_type": "code",
   "execution_count": 2,
   "metadata": {
    "collapsed": true
   },
   "outputs": [],
   "source": [
    "import matplotlib.pyplot as plt\n",
    "from numpy import arcsin,sin,cos,sqrt,exp,pi,array,identity,dot\n",
    "import enum\n",
    "Pol = enum.Enum('Pol','s p sp')"
   ]
  },
  {
   "cell_type": "markdown",
   "metadata": {},
   "source": [
    "## Snell's Law\n",
    "\\begin{equation*}\n",
    " n_{0}\\sin\\phi_{0} = n_{1}\\sin\\phi_{1} \\\\\n",
    " \\phi_{1} = \\sin^{-1} \\left(\\frac{n_{0}}{n_{1}}\\sin\\phi_{0}\\right)\n",
    "\\end{equation*}"
   ]
  },
  {
   "cell_type": "code",
   "execution_count": 3,
   "metadata": {
    "collapsed": true
   },
   "outputs": [],
   "source": [
    "def SnellLaw(n0,n1,angle):\n",
    "    return arcsin(n0/n1*sin(angle))"
   ]
  },
  {
   "cell_type": "markdown",
   "metadata": {},
   "source": [
    "## Effective refractive index\n",
    "\\begin{eqnarray*}\n",
    " \\eta_{j} &=& -n_{j}\\cos\\phi_{j}  & :s-polarized\\\\\n",
    "          &=&\\frac{n_{j}}{\\cos \\phi_{j}} & :p-polarized\n",
    "\\end{eqnarray*}"
   ]
  },
  {
   "cell_type": "code",
   "execution_count": 4,
   "metadata": {
    "collapsed": true
   },
   "outputs": [],
   "source": [
    "def EffectiveRefractiveIndex(n,angle,pol):\n",
    "    if(pol == Pol.s):\n",
    "        return -n*cos(angle)\n",
    "    else:\n",
    "        return n/cos(angle)"
   ]
  },
  {
   "cell_type": "markdown",
   "metadata": {},
   "source": [
    "## Fresnel coefficient\n",
    "\\begin{equation*}\n",
    " r = \\frac{\\eta_{0}-\\eta_{1}}{\\eta_{0}+\\eta_{1}} \\\\\n",
    " t = \\sqrt{\\frac{n_{0} \\cos \\phi_{0}}{n_{1} \\cos \\phi_{1}}}\\cdot\\frac{2\\sqrt{\\eta_{0}\\eta_{1}}}{\\eta_{0}+\\eta_{1}}\n",
    "\\end{equation*}"
   ]
  },
  {
   "cell_type": "code",
   "execution_count": 5,
   "metadata": {
    "collapsed": true
   },
   "outputs": [],
   "source": [
    "def FresnelCoefficient(n0,n1,angle0,pol):\n",
    "    eta0=EffectiveRefractiveIndex(n0,angle0,pol)\n",
    "    angle1=SnellLaw(n0,n1,angle0)\n",
    "    eta1=EffectiveRefractiveIndex(n1,angle1,pol)\n",
    "    r = (eta0-eta1)/(eta0+eta1)\n",
    "    t = sqrt(n0*cos(angle0)/(n1*cos(angle1)))*2*sqrt(eta0*eta1)/(eta0+eta1)\n",
    "    return r,t "
   ]
  },
  {
   "cell_type": "markdown",
   "metadata": {},
   "source": [
    "## Phase difference\n",
    "\\begin{equation*}\n",
    " 2\\delta = \\frac{4\\pi}{\\lambda}nd\\cos\\phi\n",
    "\\end{equation*}"
   ]
  },
  {
   "cell_type": "code",
   "execution_count": 6,
   "metadata": {
    "collapsed": true
   },
   "outputs": [],
   "source": [
    "def PhaseDifference(n,d,angle,wl):\n",
    "    return 2*pi*n*d*cos(angle)/wl"
   ]
  },
  {
   "cell_type": "markdown",
   "metadata": {},
   "source": [
    "## Specific Matrix\n",
    "\\begin{equation*}\n",
    "M_{j} = \\left(\n",
    "         \\begin{array}{cc}\n",
    "          \\cos \\delta_{j} & i \\eta_{j}^{-1} \\sin \\delta_{j} \\\\\n",
    "          i \\eta_{j} \\sin \\delta_{j}& \\cos \\delta_{j}\\\\\n",
    "         \\end{array}\n",
    "        \\right)\n",
    "\\end{equation*}"
   ]
  },
  {
   "cell_type": "code",
   "execution_count": 7,
   "metadata": {
    "collapsed": true
   },
   "outputs": [],
   "source": [
    "class Material:\n",
    "    def __init__(self,n={550:1.5}):\n",
    "        self.n = n\n",
    "    def getIndex(self,wl):\n",
    "        value = self.n.get(wl)\n",
    "        if value == None:\n",
    "            nl = self.n.keys()\n",
    "            l = [x for x in nl if x < wl]\n",
    "            h = [x for x in nl if x > wl]\n",
    "            if len(l) != 0 and len(h) != 0:\n",
    "                x1 = max(l)\n",
    "                x2 = min(h)\n",
    "                y1 = self.n.get(x1)\n",
    "                y2 = self.n.get(x2)\n",
    "                value = (y2-y1)/(x2-x1)*(wl-x1)+y1\n",
    "            elif len(l) != 0:\n",
    "                value = self.n.get(max(l))\n",
    "            elif len(h) != 0:\n",
    "                value = self.n.get(min(h))\n",
    "            else:\n",
    "                value = None\n",
    "        return value"
   ]
  },
  {
   "cell_type": "code",
   "execution_count": 8,
   "metadata": {
    "collapsed": true
   },
   "outputs": [],
   "source": [
    "class Layer:\n",
    "    def __init__(self,material,thickness):\n",
    "        self.material = material\n",
    "        self.thickness = thickness\n",
    "    def getSpecificMatrix(self,n0,angle0,wl,pol):\n",
    "        n = self.material.getIndex(wl)\n",
    "        angle = SnellLaw(n0,n,angle0)\n",
    "        delta = PhaseDifference(n,self.thickness,angle,wl)\n",
    "        eta = EffectiveRefractiveIndex(n,angle,pol)\n",
    "        return array([[cos(delta),1j/eta*sin(delta)],[1j*eta*sin(delta),cos(delta)]])"
   ]
  },
  {
   "cell_type": "markdown",
   "metadata": {},
   "source": [
    "## Semi-infinite Model\n",
    "\\begin{equation*}\n",
    " R=|r_{1}|^{2} \\\\\n",
    " T=\\frac{n_{1} \\cos \\phi_{1}}{n_{0} \\cos \\phi_{0}}|t_{1}|^{2} \n",
    "\\end{equation*}"
   ]
  },
  {
   "cell_type": "code",
   "execution_count": 9,
   "metadata": {
    "collapsed": true
   },
   "outputs": [],
   "source": [
    "def SemiInfinite(matIn,matOut,angle0,wl,pol):\n",
    "    n0 = matIn.getIndex(wl)\n",
    "    n1 = matOut.getIndex(wl)\n",
    "    angle1 = SnellLaw(n0,n1,angle0)\n",
    "    r,t = FresnelCoefficient(n0,n1,angle0,pol)\n",
    "    rr = abs(r)**2\n",
    "    tt = n1*cos(angle1)/(n0*cos(angle0))*abs(t)**2\n",
    "    return rr,tt"
   ]
  },
  {
   "cell_type": "markdown",
   "metadata": {},
   "source": [
    "## Monolayer\n",
    "\\begin{equation*}\n",
    " R=\\frac{r_{1}+r_{2}\\mathrm{e}^{-2i\\delta_{1}}}{1+r_{1}r_{2}\\mathrm{e}^{-2i\\delta_{1}}} \\\\\n",
    " T=\\frac{t_{1}t_{2}\\mathrm{e}^{-i\\delta_{1}}}{1+r_{1}r_{2}\\mathrm{e}^{-2i\\delta_{1}}}\n",
    "\\end{equation*}"
   ]
  },
  {
   "cell_type": "markdown",
   "metadata": {},
   "source": [
    "    n0\n",
    "------------\n",
    "    n,t\n",
    "------------\n",
    "    n1"
   ]
  },
  {
   "cell_type": "code",
   "execution_count": 10,
   "metadata": {
    "collapsed": true
   },
   "outputs": [],
   "source": [
    "def Monolayer(matIn,matOut,layer,angle0,wl,pol):\n",
    "    n0 = matIn.getIndex(wl)\n",
    "    n1 = matOut.getIndex(wl)\n",
    "    n = layer.material.getIndex(wl)\n",
    "    thickness = layer.thickness\n",
    "    angle = SnellLaw(n0,n,angle0)\n",
    "    angle1 = SnellLaw(n0,n1,angle0)\n",
    "    r1,t1 = FresnelCoefficient(n0,n,angle0,pol)\n",
    "    r2,t2 = FresnelCoefficient(n,n1,angle,pol)\n",
    "    delta1 = PhaseDifference(n,thickness,angle,wl)\n",
    "    r = (r1+r2*exp(-2j*delta1))/(1+r1*r2*exp(-2j*delta1))\n",
    "    t = t1*t2*exp(-2j*delta1)/(1+r1*r2*exp(-2j*delta1))\n",
    "    rr = abs(r)**2\n",
    "    tt = n1*cos(angle1)/(n0*cos(angle0))*abs(t)**2\n",
    "    return rr,tt"
   ]
  },
  {
   "cell_type": "markdown",
   "metadata": {},
   "source": [
    "## Use Specific Matrix\n",
    "\\begin{equation*}\n",
    " R=\\frac{\\eta_{0}(m_{11}+\\eta_{N+1}m_{12})-(m_{21}+\\eta_{N+1}m_{22})}{\\eta_{0}(m_{11}+\\eta_{N+1}m_{12})+(m_{21}+\\eta_{N+1}m_{22})} \\\\\n",
    " T=\\gamma\\frac{2\\eta_{0}}{\\eta_{0}(m_{11}+\\eta_{N+1}m_{12})+(m_{21}+\\eta_{N+1}m_{22})}\n",
    "\\end{equation*}\n",
    "\n",
    "\\begin{equation*}\n",
    "\\gamma = \\left\\{\n",
    " \\begin{array}{l}\n",
    "  1 & :s-polarized\\\\\n",
    "  \\frac{\\cos\\phi_{0}}{\\cos\\phi_{N+1}} & :p-polarized\n",
    " \\end{array}\n",
    " \\right.\n",
    "\\end{equation*}"
   ]
  },
  {
   "cell_type": "code",
   "execution_count": 11,
   "metadata": {
    "collapsed": true
   },
   "outputs": [],
   "source": [
    "def Multilayer(matIn,matOut,layers,angle0,wl,pol):\n",
    "    n0 = matIn.getIndex(wl)\n",
    "    n1 = matOut.getIndex(wl)\n",
    "    angle1 = SnellLaw(n0,n1,angle0)\n",
    "    eta0 = EffectiveRefractiveIndex(n0,angle0,pol)\n",
    "    eta1 = EffectiveRefractiveIndex(n1,angle1,pol)\n",
    "    if(pol == Pol.s):\n",
    "        gamma = 1\n",
    "    else:\n",
    "        gamma = cos(angle0)/cos(angle1)\n",
    "    mat = identity(2)\n",
    "    for layer in layers:\n",
    "        mat = dot(mat,layer.getSpecificMatrix(n0,angle0,wl,pol))  \n",
    "    r = (eta0*(mat[0,0]+eta1*mat[0,1])-(mat[1,0]+eta1*mat[1,1]))/(eta0*(mat[0,0]+eta1*mat[0,1])+(mat[1,0]+eta1*mat[1,1]))\n",
    "    t = gamma*2*eta0/(eta0*(mat[0,0]+eta1*mat[0,1])+(mat[1,0]+eta1*mat[1,1]))\n",
    "    rr = abs(r)**2\n",
    "    tt = n1*cos(angle1)/(n0*cos(angle0))*abs(t)**2\n",
    "    return rr,tt"
   ]
  },
  {
   "cell_type": "markdown",
   "metadata": {},
   "source": [
    "## Matrix method\n",
    "\\begin{equation*}\n",
    " \\left(\\begin{array}{c}\n",
    "  B \\\\\n",
    "  C \\\\\n",
    " \\end{array}\\right)\n",
    " =\n",
    " \\prod_{i=1}^{N}M_{i}\n",
    " \\left(\\begin{array}{c}\n",
    "  1 \\\\\n",
    "  \\eta_{s} \\\\\n",
    " \\end{array}\\right)\n",
    "\\end{equation*}"
   ]
  },
  {
   "cell_type": "code",
   "execution_count": 12,
   "metadata": {
    "collapsed": true
   },
   "outputs": [],
   "source": [
    "def Admittance(matIn,matOut,layers,angle0,wl,pol):\n",
    "    n0 = matIn.getIndex(wl)\n",
    "    n1 = matOut.getIndex(wl)\n",
    "    angle1 = SnellLaw(n0,n1,angle0)\n",
    "    mat = identity(2)\n",
    "    for layer in  layers:\n",
    "        mat = dot(mat,layer.getSpecificMatrix(n0,angle0,wl,pol))\n",
    "    eta1 = EffectiveRefractiveIndex(n1,angle1,pol)\n",
    "    return dot(mat,array([[1],[eta1]]))"
   ]
  },
  {
   "cell_type": "markdown",
   "metadata": {},
   "source": [
    "## Reflectance\n",
    "\\begin{equation*}\n",
    " R = \\left|\\frac{B\\eta_{0}-C}{B\\eta_{0}+C}\\right|^{2}\n",
    "\\end{equation*}"
   ]
  },
  {
   "cell_type": "code",
   "execution_count": 13,
   "metadata": {
    "collapsed": true
   },
   "outputs": [],
   "source": [
    "def Reflectance(matIn,matOut,layers,angle0,wl,pol):\n",
    "    if pol == Pol.sp:\n",
    "        return (Reflectance(matIn,matOut,layers,angle0,wl,Pol.s) \n",
    "                + Reflectance(matIn,matOut,layers,angle0,wl,Pol.p))/2\n",
    "    else:\n",
    "        ad = Admittance(matIn,matOut,layers,angle0,wl,pol)\n",
    "        B = ad[0][0]\n",
    "        C = ad[1][0]\n",
    "        n0 = matIn.getIndex(wl)\n",
    "        eta0 = EffectiveRefractiveIndex(n0,angle0,pol)\n",
    "        R = abs((B*eta0-C)/(B*eta0+C))**2\n",
    "        return R.real"
   ]
  },
  {
   "cell_type": "markdown",
   "metadata": {},
   "source": [
    "## Transmittance\n",
    "\\begin{equation*}\n",
    " T = \\frac{4\\eta_{0}\\Re(\\eta_{1})}{|B\\eta_{0}+C|^{2}}\n",
    "\\end{equation*}\n"
   ]
  },
  {
   "cell_type": "code",
   "execution_count": 14,
   "metadata": {
    "collapsed": true
   },
   "outputs": [],
   "source": [
    "def Transmittance(matIn,matOut,layers,angle0,wl,pol):\n",
    "    if pol == Pol.sp:\n",
    "        return (Transmittance(matIn,matOut,layers,angle0,wl,Pol.s)\n",
    "               +Transmittance(matIn,matOut,layers,angle0,wl,Pol.p))/2\n",
    "    else:\n",
    "        ad = Admittance(matIn,matOut,layers,angle0,wl,pol)\n",
    "        B = ad[0][0]\n",
    "        C = ad[1][0]\n",
    "        n0 = matIn.getIndex(wl)\n",
    "        n1 = matOut.getIndex(wl)\n",
    "        angle1 = SnellLaw(n0,n1,angle0)\n",
    "        eta0 = EffectiveRefractiveIndex(n0,angle0,pol)\n",
    "        eta1 = EffectiveRefractiveIndex(n1,angle1,pol)\n",
    "        T = 4*eta0*eta1.real/(abs(B*eta0+C)**2)\n",
    "        return T.real"
   ]
  },
  {
   "cell_type": "code",
   "execution_count": 15,
   "metadata": {
    "collapsed": true
   },
   "outputs": [],
   "source": [
    "def Reflectance2(matIn,matSub,matOut,layers,angle0,wl,pol):\n",
    "    if pol == Pol.sp:\n",
    "        return (Reflectance2(matIn,matSub,matOut,layers,angle0,wl,Pol.s) \n",
    "                + Reflectance2(matIn,matSub,matOut,layers,angle0,wl,Pol.p))/2\n",
    "    else:\n",
    "        ad = Admittance(matIn,matSub,layers,angle0,wl,pol)\n",
    "        B = ad[0][0]\n",
    "        C = ad[1][0]\n",
    "        n0 = matIn.getIndex(wl)\n",
    "        n1 = matSub.getIndex(wl)\n",
    "        angle1 = SnellLaw(n0,n1,angle0)\n",
    "        eta0 = EffectiveRefractiveIndex(n0,angle0,pol)\n",
    "        eta1 = EffectiveRefractiveIndex(n1,angle1,pol)\n",
    "        R02 = abs((B*eta0-C)/(B*eta0+C))**2\n",
    "        T02 = 4*eta0.real*eta1.real/(abs(B*eta0+C)**2)\n",
    "        R23,T23 = SemiInfinite(matSub,matOut,angle1,wl,pol)\n",
    "        layers.reverse()\n",
    "        ad = Admittance(matSub,matIn,layers,angle1,wl,pol)\n",
    "        B = ad[0][0]\n",
    "        C = ad[1][0]\n",
    "        R20 = abs((B*eta1-C)/(B*eta1+C))**2\n",
    "        T20 = 4*eta1.real*eta0.real/(abs(B*eta1+C)**2)\n",
    "        return (R02+T20*T20*R23/(1-R20*R23)).real"
   ]
  },
  {
   "cell_type": "code",
   "execution_count": 16,
   "metadata": {
    "collapsed": true
   },
   "outputs": [],
   "source": [
    "def Reflectance3(matIn,Sub,matOut,layers,angle0,wl,pol):\n",
    "    if pol == Pol.sp:\n",
    "        return (Reflectance3(matIn,Sub,matOut,layers,angle0,wl,Pol.s) \n",
    "                + Reflectance3(matIn,Sub,matOut,layers,angle0,wl,Pol.p))/2\n",
    "    else:\n",
    "        matSub = Sub.material\n",
    "        dSub = Sub.thickness\n",
    "        ad = Admittance(matIn,matSub,layers,angle0,wl,pol)\n",
    "        B = ad[0][0]\n",
    "        C = ad[1][0]\n",
    "        n0 = matIn.getIndex(wl)\n",
    "        n1 = matSub.getIndex(wl)\n",
    "        angle1 = SnellLaw(n0,n1,angle0)\n",
    "        eta0 = EffectiveRefractiveIndex(n0,angle0,pol)\n",
    "        eta1 = EffectiveRefractiveIndex(n1,angle1,pol)\n",
    "        R02 = abs((B*eta0-C)/(B*eta0+C))**2\n",
    "        T02 = 4*eta0.real*eta1.real/(abs(B*eta0+C)**2)\n",
    "        R23,T23 = SemiInfinite(matSub,matOut,angle1,wl,pol)\n",
    "        layers.reverse()\n",
    "        ad = Admittance(matSub,matIn,layers,angle1,wl,pol)\n",
    "        B = ad[0][0]\n",
    "        C = ad[1][0]\n",
    "        R20 = abs((B*eta1-C)/(B*eta1+C))**2\n",
    "        T20 = 4*eta1.real*eta0.real/(abs(B*eta1+C)**2)\n",
    "        return (R02+T20*T20*R23/(1-R20*R23*exp(-4*pi*n1.imag*dSub/(wl*cos(angle1))))).real"
   ]
  },
  {
   "cell_type": "code",
   "execution_count": 17,
   "metadata": {
    "collapsed": true
   },
   "outputs": [],
   "source": [
    "def Transmittance2(matIn,matSub,matOut,layers,angle0,wl,pol):\n",
    "    if pol == Pol.sp:\n",
    "        return (Transmittance2(matIn,matSub,matOut,layers,angle0,wl,Pol.s)\n",
    "               +Transmittance2(matIn,matSub,matOut,layers,angle0,wl,Pol.p))/2\n",
    "    else:\n",
    "        ad = Admittance(matIn,matSub,layers,angle0,wl,pol)\n",
    "        B = ad[0][0]\n",
    "        C = ad[1][0]\n",
    "        n0 = matIn.getIndex(wl)\n",
    "        n1 = matSub.getIndex(wl)\n",
    "        angle1 = SnellLaw(n0,n1,angle0)\n",
    "        eta0 = EffectiveRefractiveIndex(n0,angle0,pol)\n",
    "        eta1 = EffectiveRefractiveIndex(n1,angle1,pol)\n",
    "        T02 = 4*eta0.real*eta1.real/(abs(B*eta0+C)**2)\n",
    "        R23, T23 = SemiInfinite(matSub,matOut,angle1,wl,pol)\n",
    "        layers.reverse()\n",
    "        ad = Admittance(matSub,matIn,layers,angle1,wl,pol)\n",
    "        B = ad[0][0]\n",
    "        C = ad[1][0]\n",
    "        R20 = abs((B*eta1-C)/(B*eta1+C))**2\n",
    "        return (T23*T02/(1-R20*R23)).real"
   ]
  },
  {
   "cell_type": "code",
   "execution_count": 18,
   "metadata": {
    "collapsed": true
   },
   "outputs": [],
   "source": [
    "def Transmittance3(matIn,Sub,matOut,layers,angle0,wl,pol):\n",
    "    if pol == Pol.sp:\n",
    "        return (Transmittance3(matIn,Sub,matOut,layers,angle0,wl,Pol.s)\n",
    "               +Transmittance3(matIn,Sub,matOut,layers,angle0,wl,Pol.p))/2\n",
    "    else:\n",
    "        matSub = Sub.material\n",
    "        dSub = Sub.thickness\n",
    "        ad = Admittance(matIn,matSub,layers,angle0,wl,pol)\n",
    "        B = ad[0][0]\n",
    "        C = ad[1][0]\n",
    "        n0 = matIn.getIndex(wl)\n",
    "        n1 = matSub.getIndex(wl)\n",
    "        angle1 = SnellLaw(n0,n1,angle0)\n",
    "        eta0 = EffectiveRefractiveIndex(n0,angle0,pol)\n",
    "        eta1 = EffectiveRefractiveIndex(n1,angle1,pol)\n",
    "        T02 = 4*eta0.real*eta1.real/(abs(B*eta0+C)**2)\n",
    "        R23, T23 = SemiInfinite(matSub,matOut,angle1,wl,pol)\n",
    "        layers.reverse()\n",
    "        ad = Admittance(matSub,matIn,layers,angle1,wl,pol)\n",
    "        B = ad[0][0]\n",
    "        C = ad[1][0]\n",
    "        R20 = abs((B*eta1-C)/(B*eta1+C))**2\n",
    "        return (T23*T02/(1-R20*R23*exp(-4*pi*n1.imag*dSub/(wl*cos(angle1))))).real"
   ]
  },
  {
   "cell_type": "code",
   "execution_count": 19,
   "metadata": {
    "collapsed": true
   },
   "outputs": [],
   "source": [
    "air = Material({550:1.0})\n",
    "sub = Material({550:1.6})\n",
    "layer = Layer(Material({550:1.5}),100)"
   ]
  },
  {
   "cell_type": "code",
   "execution_count": 20,
   "metadata": {
    "scrolled": true
   },
   "outputs": [
    {
     "name": "stdout",
     "output_type": "stream",
     "text": [
      "(0.055986406751695368, 0.94401359324830469)\n",
      "(0.055986406751695368, 0.94401359324830469)\n",
      "(0.055986406751695382, 0.94401359324830469)\n",
      "0.0559864067517\n",
      "0.944013593248\n",
      "0.0559864067517\n",
      "0.944013593248\n"
     ]
    }
   ],
   "source": [
    "print(SemiInfinite(air,sub,0.2,550,Pol.s))\n",
    "print(Monolayer(air,sub,Layer(sub,0),0.2,550,Pol.s))\n",
    "print(Multilayer(air,sub,[Layer(sub,0)],0.2,550,Pol.s))\n",
    "print(Reflectance(air,sub,[Layer(sub,0)],0.2,550,Pol.s))\n",
    "print(Transmittance(air,sub,[Layer(sub,0)],0.2,550,Pol.s))\n",
    "print(Reflectance2(air,sub,sub,[Layer(sub,0)],0.2,550,Pol.s))\n",
    "print(Transmittance2(air,sub,sub,[Layer(sub,0)],0.2,550,Pol.s))"
   ]
  },
  {
   "cell_type": "code",
   "execution_count": 21,
   "metadata": {
    "scrolled": true
   },
   "outputs": [
    {
     "name": "stdout",
     "output_type": "stream",
     "text": [
      "(0.030630485439483785, 0.96936951456051634)\n",
      "(0.030630485439483757, 0.96936951456051601)\n",
      "0.969369514561\n",
      "0.0306304854395\n",
      "0.969369514561\n",
      "0.0306304854395\n"
     ]
    }
   ],
   "source": [
    "print(Monolayer(air,sub,layer,0.2,550,Pol.s))\n",
    "print(Multilayer(air,sub,[layer],0.2,550,Pol.s))\n",
    "print(Transmittance(air,sub,[layer],0.2,550,Pol.s))\n",
    "print(Reflectance(air,sub,[layer],0.2,550,Pol.s))\n",
    "print(Transmittance2(air,sub,sub,[layer],0.2,550,Pol.s))\n",
    "print(Reflectance2(air,sub,sub,[layer],0.2,550,Pol.s))"
   ]
  },
  {
   "cell_type": "code",
   "execution_count": 22,
   "metadata": {
    "scrolled": true
   },
   "outputs": [
    {
     "name": "stdout",
     "output_type": "stream",
     "text": [
      "0.971060992629\n",
      "0.0289390073709\n",
      "0.971060992629\n",
      "0.0289390073709\n"
     ]
    }
   ],
   "source": [
    "print(Transmittance(air,sub,[layer],0.2,550,Pol.sp))\n",
    "print(Reflectance(air,sub,[layer],0.2,550,Pol.sp))\n",
    "print(Transmittance2(air,sub,sub,[layer],0.2,550,Pol.sp))\n",
    "print(Reflectance2(air,sub,sub,[layer],0.2,550,Pol.sp))"
   ]
  },
  {
   "cell_type": "code",
   "execution_count": 23,
   "metadata": {},
   "outputs": [
    {
     "name": "stdout",
     "output_type": "stream",
     "text": [
      "0.920746046742\n",
      "0.0792539532584\n",
      "0.920746046742\n",
      "0.0792539532584\n"
     ]
    }
   ],
   "source": [
    "print(Transmittance2(air,sub,air,[layer],0.2,550,Pol.sp))\n",
    "print(Reflectance2(air,sub,air,[layer],0.2,550,Pol.sp))\n",
    "print(Transmittance3(air,Layer(sub,10000),air,[layer],0.2,550,Pol.sp))\n",
    "print(Reflectance3(air,Layer(sub,10000),air,[layer],0.2,550,Pol.sp))"
   ]
  },
  {
   "cell_type": "code",
   "execution_count": 24,
   "metadata": {
    "scrolled": true
   },
   "outputs": [
    {
     "data": {
      "text/plain": [
       "[<matplotlib.lines.Line2D at 0x6fb47e90>]"
      ]
     },
     "execution_count": 24,
     "metadata": {},
     "output_type": "execute_result"
    },
    {
     "data": {
      "image/png": "[encoded data removed]",
      "text/plain": [
       "<matplotlib.figure.Figure at 0x6fbebc90>"
      ]
     },
     "metadata": {},
     "output_type": "display_data"
    }
   ],
   "source": [
    "wl=range(300,800,20)\n",
    "plt.plot(wl,[Reflectance3(air,Layer(sub,100000),air,[layer],0.2,x,Pol.sp) for x in wl])"
   ]
  }
 ],
 "metadata": {
  "kernelspec": {
   "display_name": "Python 3",
   "language": "python",
   "name": "python3"
  },
  "language_info": {
   "codemirror_mode": {
    "name": "ipython",
    "version": 3
   },
   "file_extension": ".py",
   "mimetype": "text/x-python",
   "name": "python",
   "nbconvert_exporter": "python",
   "pygments_lexer": "ipython3",
   "version": "3.4.2"
  }
 },
 "nbformat": 4,
 "nbformat_minor": 2
}
