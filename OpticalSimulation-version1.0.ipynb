{
 "cells": [
  {
   "cell_type": "markdown",
   "metadata": {},
   "source": [
    "# Optical Simulation"
   ]
  },
  {
   "cell_type": "code",
   "execution_count": 1,
   "metadata": {
    "collapsed": true
   },
   "outputs": [],
   "source": [
    "from numpy import arcsin,sin,cos,sqrt,exp,pi,array\n",
    "import enum\n",
    "Pol = enum.Enum('Pol','s p')"
   ]
  },
  {
   "cell_type": "markdown",
   "metadata": {},
   "source": [
    "## Snell's Law\n",
    "\\begin{equation*}\n",
    " n_{0}\\sin\\phi_{0} = n_{1}\\sin\\phi_{1} \\\\\n",
    " \\phi_{1} = \\sin^{-1} \\left(\\frac{n_{0}}{n_{1}}\\sin\\phi_{0}\\right)\n",
    "\\end{equation*}"
   ]
  },
  {
   "cell_type": "code",
   "execution_count": 2,
   "metadata": {
    "collapsed": true
   },
   "outputs": [],
   "source": [
    "def SnellLaw(n0,n1,angle):\n",
    "    return arcsin(n0/n1*sin(angle))"
   ]
  },
  {
   "cell_type": "markdown",
   "metadata": {},
   "source": [
    "## Effective refractive index\n",
    "\\begin{eqnarray*}\n",
    " \\eta_{j} &=& -n_{j}\\cos\\phi_{j}  & :s-polarized\\\\\n",
    "          &=&\\frac{n_{j}}{\\cos \\phi_{j}} & :p-polarized\n",
    "\\end{eqnarray*}"
   ]
  },
  {
   "cell_type": "code",
   "execution_count": 3,
   "metadata": {
    "collapsed": true
   },
   "outputs": [],
   "source": [
    "def EffectiveRefractiveIndex(n,angle,pol):\n",
    "    if(pol == Pol.s):\n",
    "        return -n*cos(angle)\n",
    "    else:\n",
    "        return n/cos(angle)"
   ]
  },
  {
   "cell_type": "markdown",
   "metadata": {},
   "source": [
    "## Fresnel coefficient\n",
    "\\begin{equation*}\n",
    " r = \\frac{\\eta_{0}-\\eta_{1}}{\\eta_{0}+\\eta_{1}} \\\\\n",
    " t = \\sqrt{\\frac{n_{0} \\cos \\phi_{0}}{n_{1} \\cos \\phi_{1}}}\\cdot\\frac{2\\sqrt{\\eta_{0}\\eta_{1}}}{\\eta_{0}+\\eta_{1}}\n",
    "\\end{equation*}"
   ]
  },
  {
   "cell_type": "code",
   "execution_count": 4,
   "metadata": {
    "collapsed": true
   },
   "outputs": [],
   "source": [
    "def FresnelCoefficient(n0,n1,angle0,pol):\n",
    "    eta0=EffectiveRefractiveIndex(n0,angle0,pol)\n",
    "    angle1=SnellLaw(n0,n1,angle0)\n",
    "    eta1=EffectiveRefractiveIndex(n1,angle1,pol)\n",
    "    r = (eta0-eta1)/(eta0+eta1)\n",
    "    t = sqrt(n0*cos(angle0)/(n1*cos(angle1)))*2*sqrt(eta0*eta1)/(eta0+eta1)\n",
    "    return r,t "
   ]
  },
  {
   "cell_type": "markdown",
   "metadata": {},
   "source": [
    "## Phase difference\n",
    "\\begin{equation*}\n",
    " 2\\delta = \\frac{4\\pi}{\\lambda}nd\\cos\\phi\n",
    "\\end{equation*}"
   ]
  },
  {
   "cell_type": "code",
   "execution_count": 5,
   "metadata": {
    "collapsed": true
   },
   "outputs": [],
   "source": [
    "def PhaseDifference(n,d,angle,wl):\n",
    "    return 2*pi*n*d*cos(angle)/wl"
   ]
  },
  {
   "cell_type": "markdown",
   "metadata": {},
   "source": [
    "## Specific Matrix\n",
    "\\begin{equation*}\n",
    "M_{j} = \\left(\n",
    "         \\begin{array}{cc}\n",
    "          \\cos \\delta_{j} & i \\eta_{j}^{-1} \\sin \\delta_{j} \\\\\n",
    "          i \\eta_{j} \\sin \\delta_{j}& \\cos \\delta_{j}\\\\\n",
    "         \\end{array}\n",
    "        \\right)\n",
    "\\end{equation*}"
   ]
  },
  {
   "cell_type": "code",
   "execution_count": 6,
   "metadata": {
    "collapsed": true
   },
   "outputs": [],
   "source": [
    "class Material:\n",
    "    def __init__(self,n={550:1.5}):\n",
    "        self.n = n\n",
    "    def getIndex(self,wl):\n",
    "        value = self.n.get(wl)\n",
    "        if value == None:\n",
    "            nl = self.n.keys()\n",
    "            l = [x for x in nl if x < wl]\n",
    "            h = [x for x in nl if x > wl]\n",
    "            if len(l) != 0 and len(h) != 0:\n",
    "                x1 = max(l)\n",
    "                x2 = min(h)\n",
    "                y1 = self.n.get(x1)\n",
    "                y2 = self.n.get(x2)\n",
    "                value = (y2-y1)/(x2-x1)*(wl-x1)+y1\n",
    "            elif len(l) != 0:\n",
    "                value = self.n.get(max(l))\n",
    "            elif len(h) != 0:\n",
    "                value = self.n.get(min(h))\n",
    "            else:\n",
    "                value = None\n",
    "        return value"
   ]
  },
  {
   "cell_type": "code",
   "execution_count": 7,
   "metadata": {
    "collapsed": true
   },
   "outputs": [],
   "source": [
    "class Layer:\n",
    "    def __init__(self,material,thickness):\n",
    "        self.material = material\n",
    "        self.thickness = thickness\n",
    "    def getSpecificMatrix(self,n0,angle0,wl,pol):\n",
    "        n = self.material.getIndex(wl)\n",
    "        angle = SnellLaw(n0,n,angle0)\n",
    "        delta = PhaseDifference(n,self.thickness,angle,wl)\n",
    "        eta = EffectiveRefractiveIndex(n,angle,pol)\n",
    "        return array([[cos(delta),1j/eta*sin(delta)],[1j*eta*sin(delta),cos(delta)]])"
   ]
  },
  {
   "cell_type": "markdown",
   "metadata": {},
   "source": [
    "## Semi-infinite Model\n",
    "\\begin{equation*}\n",
    " R=|r_{1}|^{2} \\\\\n",
    " T=\\frac{n_{1} \\cos \\phi_{1}}{n_{0} \\cos \\phi_{0}}|t_{1}|^{2} \n",
    "\\end{equation*}"
   ]
  },
  {
   "cell_type": "code",
   "execution_count": 8,
   "metadata": {
    "collapsed": true
   },
   "outputs": [],
   "source": [
    "def SemiInfinite(matIn,matOut,angle0,wl,pol):\n",
    "    n0 = matIn.getIndex(wl)\n",
    "    n1 = matOut.getIndex(wl)\n",
    "    angle1 = SnellLaw(n0,n1,angle0)\n",
    "    r,t = FresnelCoefficient(n0,n1,angle0,pol)\n",
    "    rr = abs(r)**2\n",
    "    tt = n1*cos(angle1)/(n0*cos(angle0))*abs(t)**2\n",
    "    return {'wl':wl,'ref':rr,'trans':tt}"
   ]
  },
  {
   "cell_type": "markdown",
   "metadata": {},
   "source": [
    "## Monolayer\n",
    "\\begin{equation*}\n",
    " R=\\frac{r_{1}+r_{2}\\mathrm{e}^{-2i\\delta_{1}}}{1+r_{1}r_{2}\\mathrm{e}^{-2i\\delta_{1}}} \\\\\n",
    " T=\\frac{t_{1}t_{2}\\mathrm{e}^{-i\\delta_{1}}}{1+r_{1}r_{2}\\mathrm{e}^{-2i\\delta_{1}}}\n",
    "\\end{equation*}"
   ]
  },
  {
   "cell_type": "markdown",
   "metadata": {},
   "source": [
    "    n0\n",
    "------------\n",
    "    n,t\n",
    "------------\n",
    "    n1"
   ]
  },
  {
   "cell_type": "code",
   "execution_count": 9,
   "metadata": {
    "collapsed": true
   },
   "outputs": [],
   "source": [
    "def Monolayer(matIn,matOut,layer,angle0,wl,pol):\n",
    "    n0 = matIn.getIndex(wl)\n",
    "    n1 = matOut.getIndex(wl)\n",
    "    n = layer.material.getIndex(wl)\n",
    "    thickness = layer.thickness\n",
    "    angle = SnellLaw(n0,n,angle0)\n",
    "    angle1 = SnellLaw(n0,n1,angle0)\n",
    "    r1,t1 = FresnelCoefficient(n0,n,angle0,pol)\n",
    "    r2,t2 = FresnelCoefficient(n,n1,angle,pol)\n",
    "    delta1 = PhaseDifference(n,thickness,angle,wl)\n",
    "    r = (r1+r2*exp(-2j*delta1))/(1+r1*r2*exp(-2j*delta1))\n",
    "    t = t1*t2*exp(-2j*delta1)/(1+r1*r2*exp(-2j*delta1))\n",
    "    rr = abs(r)**2\n",
    "    tt = n1*cos(angle1)/(n0*cos(angle0))*abs(t)**2\n",
    "    return {'wl':wl,'ref':rr,'trans':tt}"
   ]
  },
  {
   "cell_type": "markdown",
   "metadata": {},
   "source": [
    "## Use Specific Matrix\n",
    "\\begin{equation*}\n",
    " R=\\frac{\\eta_{0}(m_{11}+\\eta_{N+1}m_{12})-(m_{21}+\\eta_{N+1}m_{22})}{\\eta_{0}(m_{11}+\\eta_{N+1}m_{12})+(m_{21}+\\eta_{N+1}m_{22})} \\\\\n",
    " T=\\gamma\\frac{2\\eta_{0}}{\\eta_{0}(m_{11}+\\eta_{N+1}m_{12})+(m_{21}+\\eta_{N+1}m_{22})}\n",
    "\\end{equation*}\n",
    "\n",
    "\\begin{equation*}\n",
    "\\gamma = \\left\\{\n",
    " \\begin{array}{l}\n",
    "  1 & :s-polarized\\\\\n",
    "  \\frac{\\cos\\phi_{0}}{\\cos\\phi_{N+1}} & :p-polarized\n",
    " \\end{array}\n",
    " \\right.\n",
    "\\end{equation*}"
   ]
  },
  {
   "cell_type": "code",
   "execution_count": 10,
   "metadata": {
    "collapsed": true
   },
   "outputs": [],
   "source": [
    "def SpecificMatrix(matIn,matOut,layer,angle0,wl,pol):\n",
    "    n0 = matIn.getIndex(wl)\n",
    "    n1 = matOut.getIndex(wl)\n",
    "    angle1 = SnellLaw(n0,n1,angle0)\n",
    "    eta0 = EffectiveRefractiveIndex(n0,angle0,pol)\n",
    "    eta1 = EffectiveRefractiveIndex(n1,angle1,pol)\n",
    "    if(pol == Pol.s):\n",
    "        gamma = 1\n",
    "    else:\n",
    "        gamma = cos(angle0)/cos(angle1)\n",
    "    mat = layer.getSpecificMatrix(n0,angle0,wl,pol)  \n",
    "    r = (eta0*(mat[0,0]+eta1*mat[0,1])-(mat[1,0]+eta1*mat[1,1]))/(eta0*(mat[0,0]+eta1*mat[0,1])+(mat[1,0]+eta1*mat[1,1]))\n",
    "    t = gamma*2*eta0/(eta0*(mat[0,0]+eta1*mat[0,1])+(mat[1,0]+eta1*mat[1,1]))\n",
    "    rr = abs(r)**2\n",
    "    tt = n1*cos(angle1)/(n0*cos(angle0))*abs(t)**2\n",
    "    return {'wl':wl,'ref':rr,'trans':tt}"
   ]
  },
  {
   "cell_type": "code",
   "execution_count": 11,
   "metadata": {
    "collapsed": true
   },
   "outputs": [],
   "source": [
    "air = Material({550:1.0})\n",
    "sub = Material({550:2.0})\n",
    "layer = Layer(Material({550:1.5}),100)"
   ]
  },
  {
   "cell_type": "code",
   "execution_count": 12,
   "metadata": {
    "scrolled": true
   },
   "outputs": [
    {
     "name": "stdout",
     "output_type": "stream",
     "text": [
      "{'ref': 0.10664875584891174, 'wl': 550, 'trans': 0.89335124415108835}\n",
      "{'ref': 0.10664875584891174, 'wl': 550, 'trans': 0.89335124415108835}\n",
      "{'ref': 0.10664875584891174, 'wl': 550, 'trans': 0.89335124415108802}\n"
     ]
    }
   ],
   "source": [
    "print(SemiInfinite(air,sub,0.2,550,Pol.p))\n",
    "print(Monolayer(air,sub,Layer(sub,0),0.2,550,Pol.p))\n",
    "print(SpecificMatrix(air,sub,Layer(sub,0),0.2,550,Pol.p))"
   ]
  },
  {
   "cell_type": "code",
   "execution_count": 13,
   "metadata": {
    "scrolled": true
   },
   "outputs": [
    {
     "name": "stdout",
     "output_type": "stream",
     "text": [
      "{'ref': 0.0059442899290937483, 'wl': 550, 'trans': 0.99405571007090676}\n",
      "{'ref': 0.0059442899290937509, 'wl': 550, 'trans': 0.99405571007090643}\n"
     ]
    }
   ],
   "source": [
    "print(Monolayer(air,sub,layer,0.2,550,Pol.s))\n",
    "print(SpecificMatrix(air,sub,layer,0.2,550,Pol.s))"
   ]
  },
  {
   "cell_type": "code",
   "execution_count": null,
   "metadata": {
    "collapsed": true
   },
   "outputs": [],
   "source": []
  }
 ],
 "metadata": {
  "kernelspec": {
   "display_name": "Python 3",
   "language": "python",
   "name": "python3"
  },
  "language_info": {
   "codemirror_mode": {
    "name": "ipython",
    "version": 3
   },
   "file_extension": ".py",
   "mimetype": "text/x-python",
   "name": "python",
   "nbconvert_exporter": "python",
   "pygments_lexer": "ipython3",
   "version": "3.4.2"
  }
 },
 "nbformat": 4,
 "nbformat_minor": 2
}
